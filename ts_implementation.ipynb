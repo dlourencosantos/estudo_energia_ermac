{
 "cells": [
  {
   "cell_type": "code",
   "execution_count": 31,
   "metadata": {},
   "outputs": [],
   "source": [
    "import numpy as np\n",
    "import seaborn as sns\n",
    "import pandas as pd\n",
    "import matplotlib.pyplot as plt\n",
    "from statsmodels.tsa.arima.model import ARIMA\n",
    "from statsmodels.tsa.seasonal import seasonal_decompose\n",
    "from statsmodels.graphics.tsaplots import plot_acf, plot_pacf\n",
    "from sklearn.metrics import mean_absolute_error, mean_absolute_percentage_error, mean_squared_error\n",
    "from tensorflow.keras.models import Sequential\n",
    "from tensorflow.keras.layers import Dense\n",
    "from tensorflow.keras.layers import SimpleRNN\n",
    "from sklearn.preprocessing import MinMaxScaler\n"
   ]
  },
  {
   "cell_type": "markdown",
   "id": "411439f5",
   "metadata": {},
   "source": [
    "# Modelando os dados"
   ]
  },
  {
   "cell_type": "code",
   "execution_count": 2,
   "id": "13132c64",
   "metadata": {},
   "outputs": [
    {
     "data": {
      "text/html": [
       "<div>\n",
       "<style scoped>\n",
       "    .dataframe tbody tr th:only-of-type {\n",
       "        vertical-align: middle;\n",
       "    }\n",
       "\n",
       "    .dataframe tbody tr th {\n",
       "        vertical-align: top;\n",
       "    }\n",
       "\n",
       "    .dataframe thead th {\n",
       "        text-align: right;\n",
       "    }\n",
       "</style>\n",
       "<table border=\"1\" class=\"dataframe\">\n",
       "  <thead>\n",
       "    <tr style=\"text-align: right;\">\n",
       "      <th></th>\n",
       "      <th>2004</th>\n",
       "      <th>Unnamed: 2</th>\n",
       "      <th>Unnamed: 3</th>\n",
       "      <th>Unnamed: 4</th>\n",
       "      <th>Unnamed: 5</th>\n",
       "      <th>Unnamed: 6</th>\n",
       "      <th>Unnamed: 7</th>\n",
       "      <th>Unnamed: 8</th>\n",
       "      <th>Unnamed: 9</th>\n",
       "      <th>Unnamed: 10</th>\n",
       "      <th>...</th>\n",
       "      <th>Unnamed: 231</th>\n",
       "      <th>Unnamed: 232</th>\n",
       "      <th>Unnamed: 233</th>\n",
       "      <th>Unnamed: 234</th>\n",
       "      <th>Unnamed: 235</th>\n",
       "      <th>Unnamed: 236</th>\n",
       "      <th>Unnamed: 237</th>\n",
       "      <th>Unnamed: 238</th>\n",
       "      <th>Unnamed: 239</th>\n",
       "      <th>Unnamed: 240</th>\n",
       "    </tr>\n",
       "  </thead>\n",
       "  <tbody>\n",
       "    <tr>\n",
       "      <th>NaN</th>\n",
       "      <td>JAN</td>\n",
       "      <td>FEV</td>\n",
       "      <td>MAR</td>\n",
       "      <td>ABR</td>\n",
       "      <td>MAI</td>\n",
       "      <td>JUN</td>\n",
       "      <td>JUL</td>\n",
       "      <td>AGO</td>\n",
       "      <td>SET</td>\n",
       "      <td>OUT</td>\n",
       "      <td>...</td>\n",
       "      <td>MAR</td>\n",
       "      <td>ABR</td>\n",
       "      <td>MAI</td>\n",
       "      <td>JUN</td>\n",
       "      <td>JUL</td>\n",
       "      <td>AGO</td>\n",
       "      <td>SET</td>\n",
       "      <td>OUT</td>\n",
       "      <td>NOV</td>\n",
       "      <td>DEZ</td>\n",
       "    </tr>\n",
       "    <tr>\n",
       "      <th>TOTAL POR UF</th>\n",
       "      <td>12008851.66</td>\n",
       "      <td>12141416.57</td>\n",
       "      <td>12608412.95</td>\n",
       "      <td>12887290.731</td>\n",
       "      <td>12832711.92</td>\n",
       "      <td>13107635.62</td>\n",
       "      <td>13306806.95</td>\n",
       "      <td>13592340.78</td>\n",
       "      <td>13460814.76</td>\n",
       "      <td>13534732.69</td>\n",
       "      <td>...</td>\n",
       "      <td>15970242.42</td>\n",
       "      <td>15786702.72</td>\n",
       "      <td>15751225.27</td>\n",
       "      <td>NaN</td>\n",
       "      <td>NaN</td>\n",
       "      <td>NaN</td>\n",
       "      <td>NaN</td>\n",
       "      <td>NaN</td>\n",
       "      <td>NaN</td>\n",
       "      <td>NaN</td>\n",
       "    </tr>\n",
       "    <tr>\n",
       "      <th>Rondônia</th>\n",
       "      <td>17012</td>\n",
       "      <td>15490</td>\n",
       "      <td>18641</td>\n",
       "      <td>16961</td>\n",
       "      <td>17462</td>\n",
       "      <td>18505</td>\n",
       "      <td>18387</td>\n",
       "      <td>19468</td>\n",
       "      <td>20556</td>\n",
       "      <td>19642</td>\n",
       "      <td>...</td>\n",
       "      <td>43035.41</td>\n",
       "      <td>42100.7</td>\n",
       "      <td>43743.01</td>\n",
       "      <td>NaN</td>\n",
       "      <td>NaN</td>\n",
       "      <td>NaN</td>\n",
       "      <td>NaN</td>\n",
       "      <td>NaN</td>\n",
       "      <td>NaN</td>\n",
       "      <td>NaN</td>\n",
       "    </tr>\n",
       "    <tr>\n",
       "      <th>Acre</th>\n",
       "      <td>1738.44</td>\n",
       "      <td>1724.13</td>\n",
       "      <td>1880.84</td>\n",
       "      <td>1714.65</td>\n",
       "      <td>1704.45</td>\n",
       "      <td>1961.75</td>\n",
       "      <td>1809.39</td>\n",
       "      <td>2103.44</td>\n",
       "      <td>2542.48</td>\n",
       "      <td>2220.39</td>\n",
       "      <td>...</td>\n",
       "      <td>3574.5</td>\n",
       "      <td>3518.33</td>\n",
       "      <td>4031.81</td>\n",
       "      <td>NaN</td>\n",
       "      <td>NaN</td>\n",
       "      <td>NaN</td>\n",
       "      <td>NaN</td>\n",
       "      <td>NaN</td>\n",
       "      <td>NaN</td>\n",
       "      <td>NaN</td>\n",
       "    </tr>\n",
       "    <tr>\n",
       "      <th>Amazonas</th>\n",
       "      <td>93449</td>\n",
       "      <td>101555.76</td>\n",
       "      <td>101814</td>\n",
       "      <td>102970.41</td>\n",
       "      <td>104589</td>\n",
       "      <td>107710</td>\n",
       "      <td>112740</td>\n",
       "      <td>113924.95</td>\n",
       "      <td>113649.57</td>\n",
       "      <td>126345.82</td>\n",
       "      <td>...</td>\n",
       "      <td>175915</td>\n",
       "      <td>160840</td>\n",
       "      <td>176895</td>\n",
       "      <td>NaN</td>\n",
       "      <td>NaN</td>\n",
       "      <td>NaN</td>\n",
       "      <td>NaN</td>\n",
       "      <td>NaN</td>\n",
       "      <td>NaN</td>\n",
       "      <td>NaN</td>\n",
       "    </tr>\n",
       "  </tbody>\n",
       "</table>\n",
       "<p>5 rows × 240 columns</p>\n",
       "</div>"
      ],
      "text/plain": [
       "                     2004   Unnamed: 2   Unnamed: 3    Unnamed: 4  \\\n",
       "NaN                   JAN          FEV          MAR           ABR   \n",
       "TOTAL POR UF  12008851.66  12141416.57  12608412.95  12887290.731   \n",
       "Rondônia            17012        15490        18641         16961   \n",
       "Acre              1738.44      1724.13      1880.84       1714.65   \n",
       "Amazonas            93449    101555.76       101814     102970.41   \n",
       "\n",
       "               Unnamed: 5   Unnamed: 6   Unnamed: 7   Unnamed: 8   Unnamed: 9  \\\n",
       "NaN                   MAI          JUN          JUL          AGO          SET   \n",
       "TOTAL POR UF  12832711.92  13107635.62  13306806.95  13592340.78  13460814.76   \n",
       "Rondônia            17462        18505        18387        19468        20556   \n",
       "Acre              1704.45      1961.75      1809.39      2103.44      2542.48   \n",
       "Amazonas           104589       107710       112740    113924.95    113649.57   \n",
       "\n",
       "              Unnamed: 10  ... Unnamed: 231 Unnamed: 232 Unnamed: 233  \\\n",
       "NaN                   OUT  ...          MAR          ABR          MAI   \n",
       "TOTAL POR UF  13534732.69  ...  15970242.42  15786702.72  15751225.27   \n",
       "Rondônia            19642  ...     43035.41      42100.7     43743.01   \n",
       "Acre              2220.39  ...       3574.5      3518.33      4031.81   \n",
       "Amazonas        126345.82  ...       175915       160840       176895   \n",
       "\n",
       "             Unnamed: 234 Unnamed: 235 Unnamed: 236 Unnamed: 237 Unnamed: 238  \\\n",
       "NaN                   JUN          JUL          AGO          SET          OUT   \n",
       "TOTAL POR UF          NaN          NaN          NaN          NaN          NaN   \n",
       "Rondônia              NaN          NaN          NaN          NaN          NaN   \n",
       "Acre                  NaN          NaN          NaN          NaN          NaN   \n",
       "Amazonas              NaN          NaN          NaN          NaN          NaN   \n",
       "\n",
       "             Unnamed: 239 Unnamed: 240  \n",
       "NaN                   NOV          DEZ  \n",
       "TOTAL POR UF          NaN          NaN  \n",
       "Rondônia              NaN          NaN  \n",
       "Acre                  NaN          NaN  \n",
       "Amazonas              NaN          NaN  \n",
       "\n",
       "[5 rows x 240 columns]"
      ]
     },
     "execution_count": 2,
     "metadata": {},
     "output_type": "execute_result"
    }
   ],
   "source": [
    "df = pd.read_excel('CONSUMO MENSAL DE ENERGIA ELÉTRICA POR CLASSE.xls', sheet_name = 'CONSUMO INDUSTRIAL POR UF', header = 4, index_col = 0)\n",
    "df.head(5)"
   ]
  },
  {
   "cell_type": "code",
   "execution_count": 3,
   "id": "1d753e94",
   "metadata": {},
   "outputs": [
    {
     "data": {
      "text/plain": [
       "array([3499333.91, 3641580.49, 3677373.42, 3913242.19, 3753889.16,\n",
       "       3936932.41, 3953979.88, 4052294.36, 4120856.27, 4128933.33,\n",
       "       4092032.16, 4054099.24, 3691575.32, 3792977.51, 3860019.49,\n",
       "       4013268.84, 3927007.68, 4011756.85, 4076122.85, 4133091.64,\n",
       "       4164235.93, 4155937.68, 4090785.98, 4036283.16, 3856964.24,\n",
       "       4055481.62, 4198222.16, 4194942.2 , 4052097.98, 4151300.84,\n",
       "       4165531.97, 4273783.44, 4224977.28, 4280542.4 , 4300324.22,\n",
       "       4275335.72, 4049589.  , 4188532.  , 4329715.  , 4507532.  ,\n",
       "       4439199.  , 4544459.  , 4426115.  , 4488819.  , 4661174.  ,\n",
       "       4590297.  , 4690139.  , 4536199.  , 4221172.  , 4467742.  ,\n",
       "       4408751.  , 4470594.  , 4525926.  , 4471787.  , 4615994.  ,\n",
       "       4763449.  , 4632118.  , 4701595.  , 4594345.  , 4159358.  ,\n",
       "       3662816.  , 3928530.  , 4087697.  , 4168105.  , 4108187.  ,\n",
       "       4137079.  , 4252347.  , 4386733.  , 4463013.  , 4574343.  ,\n",
       "       4565298.  , 4276521.  , 3864342.  , 4371815.  , 4485528.  ,\n",
       "       4682153.  , 4550424.  , 4666532.  , 4604799.  , 4728386.  ,\n",
       "       4748770.  , 4659799.  , 4717005.  , 4700429.  , 4325401.  ,\n",
       "       4511015.  , 4600271.  , 4742962.  , 4581192.  , 4710674.  ,\n",
       "       4658259.  , 4785977.  , 4849895.  , 4755915.  , 4783764.  ,\n",
       "       4683940.  , 4352532.  , 4566183.  , 4671720.  , 4840517.  ,\n",
       "       4607812.  , 4687585.  , 4542028.  , 4686548.  , 4765761.  ,\n",
       "       4697326.  , 4740378.  , 4469961.  , 4257677.  , 4624135.  ,\n",
       "       4580020.  , 4714130.  , 4710262.  , 4611653.  , 4591068.  ,\n",
       "       4690540.  , 4673717.  , 4730486.  , 4787642.  , 4579086.  ,\n",
       "       4187957.  , 4551544.  , 4553560.  , 4540009.  , 4445981.  ,\n",
       "       4272043.  , 4052978.  , 4304583.  , 4262281.  , 4231928.  ,\n",
       "       4535189.  , 4315733.  , 3883529.  , 4235359.  , 4186573.  ,\n",
       "       4323093.  , 4117284.52, 4063230.  , 3953982.  , 4073278.  ,\n",
       "       4013939.  , 4033541.6 , 4077415.  , 3931655.  , 3475161.  ,\n",
       "       3823308.  , 3918019.  , 3977942.  , 3862425.  , 3876965.  ,\n",
       "       3939962.  , 3964950.  , 3956388.  , 3923778.  , 3942363.  ,\n",
       "       3846586.  , 3561122.  , 3805638.  , 3825855.  , 4094050.  ,\n",
       "       3799642.  , 3992120.24, 3966821.  , 4002919.76, 4170485.  ,\n",
       "       4020130.  , 4154674.  , 4091197.  , 3897664.94, 3951475.13,\n",
       "       4235006.94, 4134608.25, 3961238.97, 3954501.09, 4107706.78,\n",
       "       4181548.72, 4111728.85, 4198149.84, 4171860.1 , 3899773.39,\n",
       "       3868923.42, 3958057.27, 3984284.66, 3986721.55, 4032657.4 ,\n",
       "       3939671.44, 3886074.96, 3940191.51, 4007648.78, 4138191.78,\n",
       "       4081823.96, 3811381.91, 3660931.88, 3923294.92, 3994239.29,\n",
       "       3388877.3 , 3104146.02, 3327897.62, 3705989.56, 4007568.68,\n",
       "       4155857.26, 4277901.39, 4258639.74, 4154898.16, 4228676.06,\n",
       "       4153972.6 , 4521947.96, 4330063.12, 4135650.37, 4195768.17,\n",
       "       4211475.64, 4250459.58, 4358339.13, 4352444.59, 4338739.49,\n",
       "       4211258.85, 4096471.4 , 4122280.73, 4294312.68, 4435241.94,\n",
       "       4337252.8 , 4301221.79, 4337043.43, 4408509.96, 4425552.25,\n",
       "       4328237.15, 4269729.76, 4100031.88])"
      ]
     },
     "execution_count": 3,
     "metadata": {},
     "output_type": "execute_result"
    }
   ],
   "source": [
    "df2 = df.loc[['São Paulo']].values.astype('float')\n",
    "df2[0,:-12]"
   ]
  },
  {
   "cell_type": "code",
   "execution_count": 4,
   "id": "2c57dc75",
   "metadata": {},
   "outputs": [
    {
     "data": {
      "text/plain": [
       "2004-01-31    3499.3339\n",
       "2004-02-29    3641.5805\n",
       "2004-03-31    3677.3734\n",
       "2004-04-30    3913.2422\n",
       "2004-05-31    3753.8892\n",
       "                ...    \n",
       "2022-08-31    4408.5100\n",
       "2022-09-30    4425.5522\n",
       "2022-10-31    4328.2372\n",
       "2022-11-30    4269.7298\n",
       "2022-12-31    4100.0319\n",
       "Freq: ME, Length: 228, dtype: float64"
      ]
     },
     "execution_count": 4,
     "metadata": {},
     "output_type": "execute_result"
    }
   ],
   "source": [
    "index = pd.date_range('2004 Jan', periods = len(df2[0,:-12]), freq = 'ME')\n",
    "ts = pd.Series(df2[0,:-12], index= index)\n",
    "ts = (ts/1000).round(4)\n",
    "ts"
   ]
  },
  {
   "cell_type": "code",
   "execution_count": 5,
   "id": "663d73db",
   "metadata": {},
   "outputs": [
    {
     "data": {
      "text/plain": [
       "count     228.000\n",
       "mean     4233.050\n",
       "std       325.159\n",
       "min      3104.146\n",
       "25%      4006.406\n",
       "50%      4196.959\n",
       "75%      4522.942\n",
       "max      4849.895\n",
       "dtype: float64"
      ]
     },
     "execution_count": 5,
     "metadata": {},
     "output_type": "execute_result"
    }
   ],
   "source": [
    "ts.describe().round(3)"
   ]
  },
  {
   "cell_type": "code",
   "execution_count": 6,
   "id": "4d5fc2ec",
   "metadata": {},
   "outputs": [
    {
     "data": {
      "image/png": "[encoded data removed]",
      "text/plain": [
       "<Figure size 1500x500 with 1 Axes>"
      ]
     },
     "metadata": {},
     "output_type": "display_data"
    }
   ],
   "source": [
    "sns.set_style('whitegrid')\n",
    "fig, ax = plt.subplots(figsize = (15,5))\n",
    "sns.lineplot(ts, linewidth = 1.5)\n",
    "ax.set_ylabel('Consumo de energia (GWh)')\n",
    "ax.set_xlabel('Ano')\n",
    "plt.grid(visible=True, axis='both')\n",
    "plt.show()"
   ]
  },
  {
   "cell_type": "code",
   "execution_count": 7,
   "id": "a649ea75",
   "metadata": {},
   "outputs": [
    {
     "data": {
      "image/png": "[encoded data removed]",
      "text/plain": [
       "<Figure size 1500x500 with 1 Axes>"
      ]
     },
     "metadata": {},
     "output_type": "display_data"
    }
   ],
   "source": [
    "fig, ax = plt.subplots(figsize=(15,5))\n",
    "sns.boxplot(x = ts.index.year,\n",
    "                color = 'skyblue',\n",
    "                y = ts.values,\n",
    "                ax = ax)\n",
    "ax.set_xlabel('Ano')\n",
    "ax.set_ylabel('Consumo de energia (GWh)')\n",
    "plt.grid()\n",
    "plt.show()"
   ]
  },
  {
   "cell_type": "code",
   "execution_count": 8,
   "id": "1e188894",
   "metadata": {},
   "outputs": [
    {
     "name": "stderr",
     "output_type": "stream",
     "text": [
      "/tmp/ipykernel_48081/2394867806.py:6: UserWarning: set_ticklabels() should only be used with a fixed number of ticks, i.e. after set_ticks() or using a FixedLocator.\n",
      "  ax.set_xticklabels(['Jan','Fev','Mar','Abr','Mai','Jun','Jul','Ago','Set','Out','Nov','Dez',])\n"
     ]
    },
    {
     "data": {
      "image/png": "[encoded data removed]",
      "text/plain": [
       "<Figure size 1500x500 with 1 Axes>"
      ]
     },
     "metadata": {},
     "output_type": "display_data"
    }
   ],
   "source": [
    "fig, ax = plt.subplots(figsize=(15,5))\n",
    "sns.boxplot(x = ts.index.month,\n",
    "                y = ts.values,\n",
    "                color = 'skyblue',\n",
    "                ax = ax)\n",
    "ax.set_xticklabels(['Jan','Fev','Mar','Abr','Mai','Jun','Jul','Ago','Set','Out','Nov','Dez',])\n",
    "ax.set_xlabel('Ano')\n",
    "ax.set_ylabel('Consumo de energia (GWh)')\n",
    "plt.grid()\n",
    "plt.show()"
   ]
  },
  {
   "cell_type": "code",
   "execution_count": 9,
   "id": "f5dbd037",
   "metadata": {},
   "outputs": [],
   "source": [
    "treino_ate_2021 = ts.loc[:'2021']\n",
    "teste_2022 = ts.loc['2022']\n",
    "\n",
    "treino_ate_2020 = ts.loc[:'2020']\n",
    "teste_2021 = ts.loc['2021']\n",
    "\n",
    "treino_ate_2019 = ts.loc[:'2019']\n",
    "teste_2020 = ts.loc['2020']\n",
    "\n",
    "treino_ate_2018 = ts.loc[:'2018']\n",
    "teste_2019 = ts.loc['2019']\n"
   ]
  },
  {
   "cell_type": "code",
   "execution_count": 19,
   "id": "ea07a1d3",
   "metadata": {},
   "outputs": [],
   "source": [
    "def erros(real, previsto, arredondamento = 5):\n",
    "    erros_calculados = {'rmse':np.sqrt(mean_squared_error(real,previsto)).round(arredondamento) ,\n",
    "                        'mape': mean_absolute_percentage_error(real,previsto).round(arredondamento)}\n",
    "    return erros_calculados"
   ]
  },
  {
   "cell_type": "markdown",
   "id": "e07deb35",
   "metadata": {},
   "source": [
    "# Ajuste do modelo ARIMA"
   ]
  },
  {
   "cell_type": "markdown",
   "id": "70ea69d2",
   "metadata": {},
   "source": [
    "## Teste 2022"
   ]
  },
  {
   "cell_type": "code",
   "execution_count": 13,
   "id": "d7c5da04",
   "metadata": {},
   "outputs": [
    {
     "data": {
      "text/html": [
       "<table class=\"simpletable\">\n",
       "<caption>SARIMAX Results</caption>\n",
       "<tr>\n",
       "  <th>Dep. Variable:</th>                  <td>y</td>               <th>  No. Observations:  </th>    <td>216</td>   \n",
       "</tr>\n",
       "<tr>\n",
       "  <th>Model:</th>           <td>ARIMA(0, 1, 0)x(1, 1, [1], 12)</td> <th>  Log Likelihood     </th> <td>-1270.913</td>\n",
       "</tr>\n",
       "<tr>\n",
       "  <th>Date:</th>                   <td>Mon, 05 Feb 2024</td>        <th>  AIC                </th> <td>2547.827</td> \n",
       "</tr>\n",
       "<tr>\n",
       "  <th>Time:</th>                       <td>14:08:15</td>            <th>  BIC                </th> <td>2557.766</td> \n",
       "</tr>\n",
       "<tr>\n",
       "  <th>Sample:</th>                    <td>01-31-2004</td>           <th>  HQIC               </th> <td>2551.848</td> \n",
       "</tr>\n",
       "<tr>\n",
       "  <th></th>                          <td>- 12-31-2021</td>          <th>                     </th>     <td> </td>    \n",
       "</tr>\n",
       "<tr>\n",
       "  <th>Covariance Type:</th>               <td>opg</td>              <th>                     </th>     <td> </td>    \n",
       "</tr>\n",
       "</table>\n",
       "<table class=\"simpletable\">\n",
       "<tr>\n",
       "      <td></td>        <th>coef</th>     <th>std err</th>      <th>z</th>      <th>P>|z|</th>  <th>[0.025</th>    <th>0.975]</th>  \n",
       "</tr>\n",
       "<tr>\n",
       "  <th>ar.S.L12</th> <td>    0.0562</td> <td>    0.125</td> <td>    0.448</td> <td> 0.654</td> <td>   -0.189</td> <td>    0.302</td>\n",
       "</tr>\n",
       "<tr>\n",
       "  <th>ma.S.L12</th> <td>   -0.7049</td> <td>    0.105</td> <td>   -6.729</td> <td> 0.000</td> <td>   -0.910</td> <td>   -0.500</td>\n",
       "</tr>\n",
       "<tr>\n",
       "  <th>sigma2</th>   <td> 1.551e+04</td> <td> 1086.982</td> <td>   14.271</td> <td> 0.000</td> <td> 1.34e+04</td> <td> 1.76e+04</td>\n",
       "</tr>\n",
       "</table>\n",
       "<table class=\"simpletable\">\n",
       "<tr>\n",
       "  <th>Ljung-Box (L1) (Q):</th>     <td>3.10</td> <th>  Jarque-Bera (JB):  </th> <td>102.78</td>\n",
       "</tr>\n",
       "<tr>\n",
       "  <th>Prob(Q):</th>                <td>0.08</td> <th>  Prob(JB):          </th>  <td>0.00</td> \n",
       "</tr>\n",
       "<tr>\n",
       "  <th>Heteroskedasticity (H):</th> <td>2.48</td> <th>  Skew:              </th>  <td>-0.42</td>\n",
       "</tr>\n",
       "<tr>\n",
       "  <th>Prob(H) (two-sided):</th>    <td>0.00</td> <th>  Kurtosis:          </th>  <td>6.38</td> \n",
       "</tr>\n",
       "</table><br/><br/>Warnings:<br/>[1] Covariance matrix calculated using the outer product of gradients (complex-step)."
      ],
      "text/latex": [
       "\\begin{center}\n",
       "\\begin{tabular}{lclc}\n",
       "\\toprule\n",
       "\\textbf{Dep. Variable:}          &               y                & \\textbf{  No. Observations:  } &    216      \\\\\n",
       "\\textbf{Model:}                  & ARIMA(0, 1, 0)x(1, 1, [1], 12) & \\textbf{  Log Likelihood     } & -1270.913   \\\\\n",
       "\\textbf{Date:}                   &        Mon, 05 Feb 2024        & \\textbf{  AIC                } &  2547.827   \\\\\n",
       "\\textbf{Time:}                   &            14:08:15            & \\textbf{  BIC                } &  2557.766   \\\\\n",
       "\\textbf{Sample:}                 &           01-31-2004           & \\textbf{  HQIC               } &  2551.848   \\\\\n",
       "\\textbf{}                        &          - 12-31-2021          & \\textbf{                     } &             \\\\\n",
       "\\textbf{Covariance Type:}        &              opg               & \\textbf{                     } &             \\\\\n",
       "\\bottomrule\n",
       "\\end{tabular}\n",
       "\\begin{tabular}{lcccccc}\n",
       "                  & \\textbf{coef} & \\textbf{std err} & \\textbf{z} & \\textbf{P$> |$z$|$} & \\textbf{[0.025} & \\textbf{0.975]}  \\\\\n",
       "\\midrule\n",
       "\\textbf{ar.S.L12} &       0.0562  &        0.125     &     0.448  &         0.654        &       -0.189    &        0.302     \\\\\n",
       "\\textbf{ma.S.L12} &      -0.7049  &        0.105     &    -6.729  &         0.000        &       -0.910    &       -0.500     \\\\\n",
       "\\textbf{sigma2}   &    1.551e+04  &     1086.982     &    14.271  &         0.000        &     1.34e+04    &     1.76e+04     \\\\\n",
       "\\bottomrule\n",
       "\\end{tabular}\n",
       "\\begin{tabular}{lclc}\n",
       "\\textbf{Ljung-Box (L1) (Q):}     & 3.10 & \\textbf{  Jarque-Bera (JB):  } & 102.78  \\\\\n",
       "\\textbf{Prob(Q):}                & 0.08 & \\textbf{  Prob(JB):          } &  0.00   \\\\\n",
       "\\textbf{Heteroskedasticity (H):} & 2.48 & \\textbf{  Skew:              } & -0.42   \\\\\n",
       "\\textbf{Prob(H) (two-sided):}    & 0.00 & \\textbf{  Kurtosis:          } &  6.38   \\\\\n",
       "\\bottomrule\n",
       "\\end{tabular}\n",
       "%\\caption{SARIMAX Results}\n",
       "\\end{center}\n",
       "\n",
       "Warnings: \\newline\n",
       " [1] Covariance matrix calculated using the outer product of gradients (complex-step)."
      ],
      "text/plain": [
       "<class 'statsmodels.iolib.summary.Summary'>\n",
       "\"\"\"\n",
       "                                     SARIMAX Results                                      \n",
       "==========================================================================================\n",
       "Dep. Variable:                                  y   No. Observations:                  216\n",
       "Model:             ARIMA(0, 1, 0)x(1, 1, [1], 12)   Log Likelihood               -1270.913\n",
       "Date:                            Mon, 05 Feb 2024   AIC                           2547.827\n",
       "Time:                                    14:08:15   BIC                           2557.766\n",
       "Sample:                                01-31-2004   HQIC                          2551.848\n",
       "                                     - 12-31-2021                                         \n",
       "Covariance Type:                              opg                                         \n",
       "==============================================================================\n",
       "                 coef    std err          z      P>|z|      [0.025      0.975]\n",
       "------------------------------------------------------------------------------\n",
       "ar.S.L12       0.0562      0.125      0.448      0.654      -0.189       0.302\n",
       "ma.S.L12      -0.7049      0.105     -6.729      0.000      -0.910      -0.500\n",
       "sigma2      1.551e+04   1086.982     14.271      0.000    1.34e+04    1.76e+04\n",
       "===================================================================================\n",
       "Ljung-Box (L1) (Q):                   3.10   Jarque-Bera (JB):               102.78\n",
       "Prob(Q):                              0.08   Prob(JB):                         0.00\n",
       "Heteroskedasticity (H):               2.48   Skew:                            -0.42\n",
       "Prob(H) (two-sided):                  0.00   Kurtosis:                         6.38\n",
       "===================================================================================\n",
       "\n",
       "Warnings:\n",
       "[1] Covariance matrix calculated using the outer product of gradients (complex-step).\n",
       "\"\"\""
      ]
     },
     "execution_count": 13,
     "metadata": {},
     "output_type": "execute_result"
    }
   ],
   "source": [
    "ajuste_sarima_2022 = ARIMA(treino_ate_2021, order=(0,1,0), seasonal_order=(1,1,1,12))\n",
    "ajuste_sarima_2022 = ajuste_sarima_2022.fit()\n",
    "ajuste_sarima_2022.summary()"
   ]
  },
  {
   "cell_type": "code",
   "execution_count": 20,
   "id": "fec9a7c5",
   "metadata": {},
   "outputs": [
    {
     "data": {
      "text/plain": [
       "{'rmse': 145.72146, 'mape': 0.03033}"
      ]
     },
     "execution_count": 20,
     "metadata": {},
     "output_type": "execute_result"
    }
   ],
   "source": [
    "previsao_sarima_2022 = ajuste_sarima_2022.forecast(12)\n",
    "erros_previsao_sarima_2022 = erros(previsao_sarima_2022, teste_2022)\n",
    "erros_previsao_sarima_2022"
   ]
  },
  {
   "cell_type": "markdown",
   "id": "102ec967",
   "metadata": {},
   "source": [
    "## Teste 2021"
   ]
  },
  {
   "cell_type": "code",
   "execution_count": 17,
   "id": "bb35df39",
   "metadata": {},
   "outputs": [
    {
     "data": {
      "text/html": [
       "<table class=\"simpletable\">\n",
       "<caption>SARIMAX Results</caption>\n",
       "<tr>\n",
       "  <th>Dep. Variable:</th>                  <td>y</td>               <th>  No. Observations:  </th>    <td>204</td>   \n",
       "</tr>\n",
       "<tr>\n",
       "  <th>Model:</th>           <td>ARIMA(0, 1, 0)x(1, 1, [1], 12)</td> <th>  Log Likelihood     </th> <td>-1192.168</td>\n",
       "</tr>\n",
       "<tr>\n",
       "  <th>Date:</th>                   <td>Mon, 05 Feb 2024</td>        <th>  AIC                </th> <td>2390.335</td> \n",
       "</tr>\n",
       "<tr>\n",
       "  <th>Time:</th>                       <td>14:11:56</td>            <th>  BIC                </th> <td>2400.092</td> \n",
       "</tr>\n",
       "<tr>\n",
       "  <th>Sample:</th>                    <td>01-31-2004</td>           <th>  HQIC               </th> <td>2394.287</td> \n",
       "</tr>\n",
       "<tr>\n",
       "  <th></th>                          <td>- 12-31-2020</td>          <th>                     </th>     <td> </td>    \n",
       "</tr>\n",
       "<tr>\n",
       "  <th>Covariance Type:</th>               <td>opg</td>              <th>                     </th>     <td> </td>    \n",
       "</tr>\n",
       "</table>\n",
       "<table class=\"simpletable\">\n",
       "<tr>\n",
       "      <td></td>        <th>coef</th>     <th>std err</th>      <th>z</th>      <th>P>|z|</th>  <th>[0.025</th>    <th>0.975]</th>  \n",
       "</tr>\n",
       "<tr>\n",
       "  <th>ar.S.L12</th> <td>    0.1959</td> <td>    0.120</td> <td>    1.632</td> <td> 0.103</td> <td>   -0.039</td> <td>    0.431</td>\n",
       "</tr>\n",
       "<tr>\n",
       "  <th>ma.S.L12</th> <td>   -0.8645</td> <td>    0.104</td> <td>   -8.318</td> <td> 0.000</td> <td>   -1.068</td> <td>   -0.661</td>\n",
       "</tr>\n",
       "<tr>\n",
       "  <th>sigma2</th>   <td>  1.45e+04</td> <td>  887.084</td> <td>   16.347</td> <td> 0.000</td> <td> 1.28e+04</td> <td> 1.62e+04</td>\n",
       "</tr>\n",
       "</table>\n",
       "<table class=\"simpletable\">\n",
       "<tr>\n",
       "  <th>Ljung-Box (L1) (Q):</th>     <td>1.30</td> <th>  Jarque-Bera (JB):  </th> <td>182.87</td>\n",
       "</tr>\n",
       "<tr>\n",
       "  <th>Prob(Q):</th>                <td>0.25</td> <th>  Prob(JB):          </th>  <td>0.00</td> \n",
       "</tr>\n",
       "<tr>\n",
       "  <th>Heteroskedasticity (H):</th> <td>2.24</td> <th>  Skew:              </th>  <td>-0.61</td>\n",
       "</tr>\n",
       "<tr>\n",
       "  <th>Prob(H) (two-sided):</th>    <td>0.00</td> <th>  Kurtosis:          </th>  <td>7.64</td> \n",
       "</tr>\n",
       "</table><br/><br/>Warnings:<br/>[1] Covariance matrix calculated using the outer product of gradients (complex-step)."
      ],
      "text/latex": [
       "\\begin{center}\n",
       "\\begin{tabular}{lclc}\n",
       "\\toprule\n",
       "\\textbf{Dep. Variable:}          &               y                & \\textbf{  No. Observations:  } &    204      \\\\\n",
       "\\textbf{Model:}                  & ARIMA(0, 1, 0)x(1, 1, [1], 12) & \\textbf{  Log Likelihood     } & -1192.168   \\\\\n",
       "\\textbf{Date:}                   &        Mon, 05 Feb 2024        & \\textbf{  AIC                } &  2390.335   \\\\\n",
       "\\textbf{Time:}                   &            14:11:56            & \\textbf{  BIC                } &  2400.092   \\\\\n",
       "\\textbf{Sample:}                 &           01-31-2004           & \\textbf{  HQIC               } &  2394.287   \\\\\n",
       "\\textbf{}                        &          - 12-31-2020          & \\textbf{                     } &             \\\\\n",
       "\\textbf{Covariance Type:}        &              opg               & \\textbf{                     } &             \\\\\n",
       "\\bottomrule\n",
       "\\end{tabular}\n",
       "\\begin{tabular}{lcccccc}\n",
       "                  & \\textbf{coef} & \\textbf{std err} & \\textbf{z} & \\textbf{P$> |$z$|$} & \\textbf{[0.025} & \\textbf{0.975]}  \\\\\n",
       "\\midrule\n",
       "\\textbf{ar.S.L12} &       0.1959  &        0.120     &     1.632  &         0.103        &       -0.039    &        0.431     \\\\\n",
       "\\textbf{ma.S.L12} &      -0.8645  &        0.104     &    -8.318  &         0.000        &       -1.068    &       -0.661     \\\\\n",
       "\\textbf{sigma2}   &     1.45e+04  &      887.084     &    16.347  &         0.000        &     1.28e+04    &     1.62e+04     \\\\\n",
       "\\bottomrule\n",
       "\\end{tabular}\n",
       "\\begin{tabular}{lclc}\n",
       "\\textbf{Ljung-Box (L1) (Q):}     & 1.30 & \\textbf{  Jarque-Bera (JB):  } & 182.87  \\\\\n",
       "\\textbf{Prob(Q):}                & 0.25 & \\textbf{  Prob(JB):          } &  0.00   \\\\\n",
       "\\textbf{Heteroskedasticity (H):} & 2.24 & \\textbf{  Skew:              } & -0.61   \\\\\n",
       "\\textbf{Prob(H) (two-sided):}    & 0.00 & \\textbf{  Kurtosis:          } &  7.64   \\\\\n",
       "\\bottomrule\n",
       "\\end{tabular}\n",
       "%\\caption{SARIMAX Results}\n",
       "\\end{center}\n",
       "\n",
       "Warnings: \\newline\n",
       " [1] Covariance matrix calculated using the outer product of gradients (complex-step)."
      ],
      "text/plain": [
       "<class 'statsmodels.iolib.summary.Summary'>\n",
       "\"\"\"\n",
       "                                     SARIMAX Results                                      \n",
       "==========================================================================================\n",
       "Dep. Variable:                                  y   No. Observations:                  204\n",
       "Model:             ARIMA(0, 1, 0)x(1, 1, [1], 12)   Log Likelihood               -1192.168\n",
       "Date:                            Mon, 05 Feb 2024   AIC                           2390.335\n",
       "Time:                                    14:11:56   BIC                           2400.092\n",
       "Sample:                                01-31-2004   HQIC                          2394.287\n",
       "                                     - 12-31-2020                                         \n",
       "Covariance Type:                              opg                                         \n",
       "==============================================================================\n",
       "                 coef    std err          z      P>|z|      [0.025      0.975]\n",
       "------------------------------------------------------------------------------\n",
       "ar.S.L12       0.1959      0.120      1.632      0.103      -0.039       0.431\n",
       "ma.S.L12      -0.8645      0.104     -8.318      0.000      -1.068      -0.661\n",
       "sigma2       1.45e+04    887.084     16.347      0.000    1.28e+04    1.62e+04\n",
       "===================================================================================\n",
       "Ljung-Box (L1) (Q):                   1.30   Jarque-Bera (JB):               182.87\n",
       "Prob(Q):                              0.25   Prob(JB):                         0.00\n",
       "Heteroskedasticity (H):               2.24   Skew:                            -0.61\n",
       "Prob(H) (two-sided):                  0.00   Kurtosis:                         7.64\n",
       "===================================================================================\n",
       "\n",
       "Warnings:\n",
       "[1] Covariance matrix calculated using the outer product of gradients (complex-step).\n",
       "\"\"\""
      ]
     },
     "execution_count": 17,
     "metadata": {},
     "output_type": "execute_result"
    }
   ],
   "source": [
    "ajuste_sarima_2021 = ARIMA(treino_ate_2020, order=(0,1,0), seasonal_order=(1,1,1,12))\n",
    "ajuste_sarima_2021 = ajuste_sarima_2021.fit()\n",
    "ajuste_sarima_2021.summary()"
   ]
  },
  {
   "cell_type": "code",
   "execution_count": 21,
   "id": "148c0005",
   "metadata": {},
   "outputs": [
    {
     "data": {
      "text/plain": [
       "{'rmse': 173.0497, 'mape': 0.03201}"
      ]
     },
     "execution_count": 21,
     "metadata": {},
     "output_type": "execute_result"
    }
   ],
   "source": [
    "previsao_sarima_2021 = ajuste_sarima_2021.forecast(12)\n",
    "erros_previsao_sarima_2021 = erros(previsao_sarima_2021, teste_2021)\n",
    "erros_previsao_sarima_2021"
   ]
  },
  {
   "cell_type": "markdown",
   "id": "e574f98f",
   "metadata": {},
   "source": [
    "## Teste 2020"
   ]
  },
  {
   "cell_type": "code",
   "execution_count": 22,
   "id": "4d50f3f4",
   "metadata": {},
   "outputs": [
    {
     "data": {
      "text/html": [
       "<table class=\"simpletable\">\n",
       "<caption>SARIMAX Results</caption>\n",
       "<tr>\n",
       "  <th>Dep. Variable:</th>                  <td>y</td>               <th>  No. Observations:  </th>    <td>192</td>   \n",
       "</tr>\n",
       "<tr>\n",
       "  <th>Model:</th>           <td>ARIMA(0, 1, 0)x(1, 1, [1], 12)</td> <th>  Log Likelihood     </th> <td>-1091.963</td>\n",
       "</tr>\n",
       "<tr>\n",
       "  <th>Date:</th>                   <td>Mon, 05 Feb 2024</td>        <th>  AIC                </th> <td>2189.927</td> \n",
       "</tr>\n",
       "<tr>\n",
       "  <th>Time:</th>                       <td>14:13:15</td>            <th>  BIC                </th> <td>2199.489</td> \n",
       "</tr>\n",
       "<tr>\n",
       "  <th>Sample:</th>                    <td>01-31-2004</td>           <th>  HQIC               </th> <td>2193.804</td> \n",
       "</tr>\n",
       "<tr>\n",
       "  <th></th>                          <td>- 12-31-2019</td>          <th>                     </th>     <td> </td>    \n",
       "</tr>\n",
       "<tr>\n",
       "  <th>Covariance Type:</th>               <td>opg</td>              <th>                     </th>     <td> </td>    \n",
       "</tr>\n",
       "</table>\n",
       "<table class=\"simpletable\">\n",
       "<tr>\n",
       "      <td></td>        <th>coef</th>     <th>std err</th>      <th>z</th>      <th>P>|z|</th>  <th>[0.025</th>    <th>0.975]</th>  \n",
       "</tr>\n",
       "<tr>\n",
       "  <th>ar.S.L12</th> <td>    0.2152</td> <td>    0.095</td> <td>    2.261</td> <td> 0.024</td> <td>    0.029</td> <td>    0.402</td>\n",
       "</tr>\n",
       "<tr>\n",
       "  <th>ma.S.L12</th> <td>   -0.9949</td> <td>    1.877</td> <td>   -0.530</td> <td> 0.596</td> <td>   -4.674</td> <td>    2.684</td>\n",
       "</tr>\n",
       "<tr>\n",
       "  <th>sigma2</th>   <td> 1.001e+04</td> <td> 1.84e+04</td> <td>    0.544</td> <td> 0.586</td> <td> -2.6e+04</td> <td> 4.61e+04</td>\n",
       "</tr>\n",
       "</table>\n",
       "<table class=\"simpletable\">\n",
       "<tr>\n",
       "  <th>Ljung-Box (L1) (Q):</th>     <td>12.60</td> <th>  Jarque-Bera (JB):  </th> <td>1.49</td>\n",
       "</tr>\n",
       "<tr>\n",
       "  <th>Prob(Q):</th>                <td>0.00</td>  <th>  Prob(JB):          </th> <td>0.47</td>\n",
       "</tr>\n",
       "<tr>\n",
       "  <th>Heteroskedasticity (H):</th> <td>1.31</td>  <th>  Skew:              </th> <td>0.13</td>\n",
       "</tr>\n",
       "<tr>\n",
       "  <th>Prob(H) (two-sided):</th>    <td>0.30</td>  <th>  Kurtosis:          </th> <td>3.36</td>\n",
       "</tr>\n",
       "</table><br/><br/>Warnings:<br/>[1] Covariance matrix calculated using the outer product of gradients (complex-step)."
      ],
      "text/latex": [
       "\\begin{center}\n",
       "\\begin{tabular}{lclc}\n",
       "\\toprule\n",
       "\\textbf{Dep. Variable:}          &               y                & \\textbf{  No. Observations:  } &    192      \\\\\n",
       "\\textbf{Model:}                  & ARIMA(0, 1, 0)x(1, 1, [1], 12) & \\textbf{  Log Likelihood     } & -1091.963   \\\\\n",
       "\\textbf{Date:}                   &        Mon, 05 Feb 2024        & \\textbf{  AIC                } &  2189.927   \\\\\n",
       "\\textbf{Time:}                   &            14:13:15            & \\textbf{  BIC                } &  2199.489   \\\\\n",
       "\\textbf{Sample:}                 &           01-31-2004           & \\textbf{  HQIC               } &  2193.804   \\\\\n",
       "\\textbf{}                        &          - 12-31-2019          & \\textbf{                     } &             \\\\\n",
       "\\textbf{Covariance Type:}        &              opg               & \\textbf{                     } &             \\\\\n",
       "\\bottomrule\n",
       "\\end{tabular}\n",
       "\\begin{tabular}{lcccccc}\n",
       "                  & \\textbf{coef} & \\textbf{std err} & \\textbf{z} & \\textbf{P$> |$z$|$} & \\textbf{[0.025} & \\textbf{0.975]}  \\\\\n",
       "\\midrule\n",
       "\\textbf{ar.S.L12} &       0.2152  &        0.095     &     2.261  &         0.024        &        0.029    &        0.402     \\\\\n",
       "\\textbf{ma.S.L12} &      -0.9949  &        1.877     &    -0.530  &         0.596        &       -4.674    &        2.684     \\\\\n",
       "\\textbf{sigma2}   &    1.001e+04  &     1.84e+04     &     0.544  &         0.586        &     -2.6e+04    &     4.61e+04     \\\\\n",
       "\\bottomrule\n",
       "\\end{tabular}\n",
       "\\begin{tabular}{lclc}\n",
       "\\textbf{Ljung-Box (L1) (Q):}     & 12.60 & \\textbf{  Jarque-Bera (JB):  } & 1.49  \\\\\n",
       "\\textbf{Prob(Q):}                &  0.00 & \\textbf{  Prob(JB):          } & 0.47  \\\\\n",
       "\\textbf{Heteroskedasticity (H):} &  1.31 & \\textbf{  Skew:              } & 0.13  \\\\\n",
       "\\textbf{Prob(H) (two-sided):}    &  0.30 & \\textbf{  Kurtosis:          } & 3.36  \\\\\n",
       "\\bottomrule\n",
       "\\end{tabular}\n",
       "%\\caption{SARIMAX Results}\n",
       "\\end{center}\n",
       "\n",
       "Warnings: \\newline\n",
       " [1] Covariance matrix calculated using the outer product of gradients (complex-step)."
      ],
      "text/plain": [
       "<class 'statsmodels.iolib.summary.Summary'>\n",
       "\"\"\"\n",
       "                                     SARIMAX Results                                      \n",
       "==========================================================================================\n",
       "Dep. Variable:                                  y   No. Observations:                  192\n",
       "Model:             ARIMA(0, 1, 0)x(1, 1, [1], 12)   Log Likelihood               -1091.963\n",
       "Date:                            Mon, 05 Feb 2024   AIC                           2189.927\n",
       "Time:                                    14:13:15   BIC                           2199.489\n",
       "Sample:                                01-31-2004   HQIC                          2193.804\n",
       "                                     - 12-31-2019                                         \n",
       "Covariance Type:                              opg                                         \n",
       "==============================================================================\n",
       "                 coef    std err          z      P>|z|      [0.025      0.975]\n",
       "------------------------------------------------------------------------------\n",
       "ar.S.L12       0.2152      0.095      2.261      0.024       0.029       0.402\n",
       "ma.S.L12      -0.9949      1.877     -0.530      0.596      -4.674       2.684\n",
       "sigma2      1.001e+04   1.84e+04      0.544      0.586    -2.6e+04    4.61e+04\n",
       "===================================================================================\n",
       "Ljung-Box (L1) (Q):                  12.60   Jarque-Bera (JB):                 1.49\n",
       "Prob(Q):                              0.00   Prob(JB):                         0.47\n",
       "Heteroskedasticity (H):               1.31   Skew:                             0.13\n",
       "Prob(H) (two-sided):                  0.30   Kurtosis:                         3.36\n",
       "===================================================================================\n",
       "\n",
       "Warnings:\n",
       "[1] Covariance matrix calculated using the outer product of gradients (complex-step).\n",
       "\"\"\""
      ]
     },
     "execution_count": 22,
     "metadata": {},
     "output_type": "execute_result"
    }
   ],
   "source": [
    "ajuste_sarima_2020 = ARIMA(treino_ate_2019, order=(0,1,0), seasonal_order=(1,1,1,12))\n",
    "ajuste_sarima_2020 = ajuste_sarima_2020.fit()\n",
    "ajuste_sarima_2020.summary()"
   ]
  },
  {
   "cell_type": "code",
   "execution_count": 23,
   "id": "279a4be0",
   "metadata": {},
   "outputs": [
    {
     "data": {
      "text/plain": [
       "{'rmse': 352.80385, 'mape': 0.07642}"
      ]
     },
     "execution_count": 23,
     "metadata": {},
     "output_type": "execute_result"
    }
   ],
   "source": [
    "previsao_sarima_2020 = ajuste_sarima_2020.forecast(12)\n",
    "erros_previsao_sarima_2020 = erros(previsao_sarima_2020, teste_2020)\n",
    "erros_previsao_sarima_2020"
   ]
  },
  {
   "cell_type": "markdown",
   "id": "3456a3b9",
   "metadata": {},
   "source": [
    "## Teste 2019"
   ]
  },
  {
   "cell_type": "code",
   "execution_count": 24,
   "id": "d936d0de",
   "metadata": {},
   "outputs": [
    {
     "data": {
      "text/html": [
       "<table class=\"simpletable\">\n",
       "<caption>SARIMAX Results</caption>\n",
       "<tr>\n",
       "  <th>Dep. Variable:</th>                  <td>y</td>               <th>  No. Observations:  </th>    <td>180</td>   \n",
       "</tr>\n",
       "<tr>\n",
       "  <th>Model:</th>           <td>ARIMA(0, 1, 0)x(1, 1, [1], 12)</td> <th>  Log Likelihood     </th> <td>-1016.292</td>\n",
       "</tr>\n",
       "<tr>\n",
       "  <th>Date:</th>                   <td>Mon, 05 Feb 2024</td>        <th>  AIC                </th> <td>2038.583</td> \n",
       "</tr>\n",
       "<tr>\n",
       "  <th>Time:</th>                       <td>14:14:48</td>            <th>  BIC                </th> <td>2047.937</td> \n",
       "</tr>\n",
       "<tr>\n",
       "  <th>Sample:</th>                    <td>01-31-2004</td>           <th>  HQIC               </th> <td>2042.380</td> \n",
       "</tr>\n",
       "<tr>\n",
       "  <th></th>                          <td>- 12-31-2018</td>          <th>                     </th>     <td> </td>    \n",
       "</tr>\n",
       "<tr>\n",
       "  <th>Covariance Type:</th>               <td>opg</td>              <th>                     </th>     <td> </td>    \n",
       "</tr>\n",
       "</table>\n",
       "<table class=\"simpletable\">\n",
       "<tr>\n",
       "      <td></td>        <th>coef</th>     <th>std err</th>      <th>z</th>      <th>P>|z|</th>  <th>[0.025</th>    <th>0.975]</th>  \n",
       "</tr>\n",
       "<tr>\n",
       "  <th>ar.S.L12</th> <td>    0.1667</td> <td>    0.101</td> <td>    1.654</td> <td> 0.098</td> <td>   -0.031</td> <td>    0.364</td>\n",
       "</tr>\n",
       "<tr>\n",
       "  <th>ma.S.L12</th> <td>   -0.9918</td> <td>    1.171</td> <td>   -0.847</td> <td> 0.397</td> <td>   -3.287</td> <td>    1.303</td>\n",
       "</tr>\n",
       "<tr>\n",
       "  <th>sigma2</th>   <td> 9608.1238</td> <td> 1.09e+04</td> <td>    0.881</td> <td> 0.378</td> <td>-1.18e+04</td> <td>  3.1e+04</td>\n",
       "</tr>\n",
       "</table>\n",
       "<table class=\"simpletable\">\n",
       "<tr>\n",
       "  <th>Ljung-Box (L1) (Q):</th>     <td>10.21</td> <th>  Jarque-Bera (JB):  </th> <td>1.55</td>\n",
       "</tr>\n",
       "<tr>\n",
       "  <th>Prob(Q):</th>                <td>0.00</td>  <th>  Prob(JB):          </th> <td>0.46</td>\n",
       "</tr>\n",
       "<tr>\n",
       "  <th>Heteroskedasticity (H):</th> <td>1.37</td>  <th>  Skew:              </th> <td>0.01</td>\n",
       "</tr>\n",
       "<tr>\n",
       "  <th>Prob(H) (two-sided):</th>    <td>0.24</td>  <th>  Kurtosis:          </th> <td>3.47</td>\n",
       "</tr>\n",
       "</table><br/><br/>Warnings:<br/>[1] Covariance matrix calculated using the outer product of gradients (complex-step)."
      ],
      "text/latex": [
       "\\begin{center}\n",
       "\\begin{tabular}{lclc}\n",
       "\\toprule\n",
       "\\textbf{Dep. Variable:}          &               y                & \\textbf{  No. Observations:  } &    180      \\\\\n",
       "\\textbf{Model:}                  & ARIMA(0, 1, 0)x(1, 1, [1], 12) & \\textbf{  Log Likelihood     } & -1016.292   \\\\\n",
       "\\textbf{Date:}                   &        Mon, 05 Feb 2024        & \\textbf{  AIC                } &  2038.583   \\\\\n",
       "\\textbf{Time:}                   &            14:14:48            & \\textbf{  BIC                } &  2047.937   \\\\\n",
       "\\textbf{Sample:}                 &           01-31-2004           & \\textbf{  HQIC               } &  2042.380   \\\\\n",
       "\\textbf{}                        &          - 12-31-2018          & \\textbf{                     } &             \\\\\n",
       "\\textbf{Covariance Type:}        &              opg               & \\textbf{                     } &             \\\\\n",
       "\\bottomrule\n",
       "\\end{tabular}\n",
       "\\begin{tabular}{lcccccc}\n",
       "                  & \\textbf{coef} & \\textbf{std err} & \\textbf{z} & \\textbf{P$> |$z$|$} & \\textbf{[0.025} & \\textbf{0.975]}  \\\\\n",
       "\\midrule\n",
       "\\textbf{ar.S.L12} &       0.1667  &        0.101     &     1.654  &         0.098        &       -0.031    &        0.364     \\\\\n",
       "\\textbf{ma.S.L12} &      -0.9918  &        1.171     &    -0.847  &         0.397        &       -3.287    &        1.303     \\\\\n",
       "\\textbf{sigma2}   &    9608.1238  &     1.09e+04     &     0.881  &         0.378        &    -1.18e+04    &      3.1e+04     \\\\\n",
       "\\bottomrule\n",
       "\\end{tabular}\n",
       "\\begin{tabular}{lclc}\n",
       "\\textbf{Ljung-Box (L1) (Q):}     & 10.21 & \\textbf{  Jarque-Bera (JB):  } & 1.55  \\\\\n",
       "\\textbf{Prob(Q):}                &  0.00 & \\textbf{  Prob(JB):          } & 0.46  \\\\\n",
       "\\textbf{Heteroskedasticity (H):} &  1.37 & \\textbf{  Skew:              } & 0.01  \\\\\n",
       "\\textbf{Prob(H) (two-sided):}    &  0.24 & \\textbf{  Kurtosis:          } & 3.47  \\\\\n",
       "\\bottomrule\n",
       "\\end{tabular}\n",
       "%\\caption{SARIMAX Results}\n",
       "\\end{center}\n",
       "\n",
       "Warnings: \\newline\n",
       " [1] Covariance matrix calculated using the outer product of gradients (complex-step)."
      ],
      "text/plain": [
       "<class 'statsmodels.iolib.summary.Summary'>\n",
       "\"\"\"\n",
       "                                     SARIMAX Results                                      \n",
       "==========================================================================================\n",
       "Dep. Variable:                                  y   No. Observations:                  180\n",
       "Model:             ARIMA(0, 1, 0)x(1, 1, [1], 12)   Log Likelihood               -1016.292\n",
       "Date:                            Mon, 05 Feb 2024   AIC                           2038.583\n",
       "Time:                                    14:14:48   BIC                           2047.937\n",
       "Sample:                                01-31-2004   HQIC                          2042.380\n",
       "                                     - 12-31-2018                                         \n",
       "Covariance Type:                              opg                                         \n",
       "==============================================================================\n",
       "                 coef    std err          z      P>|z|      [0.025      0.975]\n",
       "------------------------------------------------------------------------------\n",
       "ar.S.L12       0.1667      0.101      1.654      0.098      -0.031       0.364\n",
       "ma.S.L12      -0.9918      1.171     -0.847      0.397      -3.287       1.303\n",
       "sigma2      9608.1238   1.09e+04      0.881      0.378   -1.18e+04     3.1e+04\n",
       "===================================================================================\n",
       "Ljung-Box (L1) (Q):                  10.21   Jarque-Bera (JB):                 1.55\n",
       "Prob(Q):                              0.00   Prob(JB):                         0.46\n",
       "Heteroskedasticity (H):               1.37   Skew:                             0.01\n",
       "Prob(H) (two-sided):                  0.24   Kurtosis:                         3.47\n",
       "===================================================================================\n",
       "\n",
       "Warnings:\n",
       "[1] Covariance matrix calculated using the outer product of gradients (complex-step).\n",
       "\"\"\""
      ]
     },
     "execution_count": 24,
     "metadata": {},
     "output_type": "execute_result"
    }
   ],
   "source": [
    "ajuste_sarima_2019 = ARIMA(treino_ate_2018, order=(0,1,0), seasonal_order=(1,1,1,12))\n",
    "ajuste_sarima_2019 = ajuste_sarima_2019.fit()\n",
    "ajuste_sarima_2019.summary()"
   ]
  },
  {
   "cell_type": "code",
   "execution_count": 25,
   "id": "deb29253",
   "metadata": {},
   "outputs": [
    {
     "data": {
      "text/plain": [
       "{'rmse': 115.08575, 'mape': 0.02257}"
      ]
     },
     "execution_count": 25,
     "metadata": {},
     "output_type": "execute_result"
    }
   ],
   "source": [
    "previsao_sarima_2019 = ajuste_sarima_2019.forecast(12)\n",
    "erros_previsao_sarima_2019 = erros(previsao_sarima_2019, teste_2019)\n",
    "erros_previsao_sarima_2019"
   ]
  },
  {
   "cell_type": "markdown",
   "id": "480d00c0",
   "metadata": {},
   "source": [
    "### Plot do grafico comparando a série original com os periodos previstos"
   ]
  },
  {
   "cell_type": "code",
   "execution_count": 27,
   "id": "2a2bfe11",
   "metadata": {},
   "outputs": [
    {
     "data": {
      "text/plain": [
       "[<matplotlib.lines.Line2D at 0x7fc39041a3d0>]"
      ]
     },
     "execution_count": 27,
     "metadata": {},
     "output_type": "execute_result"
    },
    {
     "data": {
      "image/png": "[encoded data removed]",
      "text/plain": [
       "<Figure size 640x480 with 1 Axes>"
      ]
     },
     "metadata": {},
     "output_type": "display_data"
    }
   ],
   "source": [
    "plt.plot(ts)\n",
    "plt.plot(previsao_sarima_2019, '--')\n",
    "plt.plot(previsao_sarima_2020,'--')\n",
    "plt.plot(previsao_sarima_2021,'--')\n",
    "plt.plot(previsao_sarima_2022,'--')"
   ]
  },
  {
   "cell_type": "markdown",
   "id": "9cbcf3a3",
   "metadata": {},
   "source": [
    "# Teste RNN"
   ]
  },
  {
   "cell_type": "code",
   "execution_count": 35,
   "id": "7df754c6",
   "metadata": {},
   "outputs": [],
   "source": [
    "scaler = MinMaxScaler(feature_range=(0,1))\n",
    "normalized_ts = scaler.fit_transform(np.array(ts).reshape(-1,1))\n",
    "\n"
   ]
  },
  {
   "cell_type": "code",
   "execution_count": 43,
   "id": "45466028",
   "metadata": {},
   "outputs": [],
   "source": [
    "def treino_e_ajuste(dados, days_time_step,tamanho_treino, tamanho_teste):\n",
    "    X_train, y_train = [], []\n",
    "    for i in range(days_time_step, tamanho_treino):\n",
    "        X_train.append(dados[i-days_time_step:i])\n",
    "        y_train.append(dados[i])\n",
    "    \n",
    "#teste\n",
    "    X_test = []\n",
    "    for i in range(days_time_step, days_time_step + tamanho_teste):\n",
    "        X_test.append(dados[i-days_time_step:i])\n",
    "    return np.array(X_train), np.array(y_train), np.array(X_test)"
   ]
  },
  {
   "cell_type": "code",
   "execution_count": 111,
   "id": "74f61a1b",
   "metadata": {},
   "outputs": [],
   "source": [
    "X_treino_rnn_2022, y_treino_rnn_2022, X_teste_2022 = treino_e_ajuste(normalized_ts, 12, len(normalized_ts[:-12]), len(normalized_ts[-12:]))\n",
    "X_treino_rnn_2021, y_treino_rnn_2021, X_teste_2021 = treino_e_ajuste(normalized_ts, 12, len(normalized_ts[:-24]), len(normalized_ts[-24:-12]))\n",
    "X_treino_rnn_2020, y_treino_rnn_2020, X_teste_2020 = treino_e_ajuste(normalized_ts, 12, len(normalized_ts[:-36]), len(normalized_ts[-36:-24]))\n",
    "X_treino_rnn_2019, y_treino_rnn_2019, X_teste_2019 = treino_e_ajuste(normalized_ts, 12, len(normalized_ts[:-48]), len(normalized_ts[-48:-36]))"
   ]
  },
  {
   "cell_type": "markdown",
   "id": "410873fd",
   "metadata": {},
   "source": [
    "## Teste 2022 RNN"
   ]
  },
  {
   "cell_type": "code",
   "execution_count": 132,
   "id": "fea7c6e4",
   "metadata": {},
   "outputs": [
    {
     "name": "stdout",
     "output_type": "stream",
     "text": [
      "Model: \"sequential_10\"\n",
      "_________________________________________________________________\n",
      " Layer (type)                Output Shape              Param #   \n",
      "=================================================================\n",
      " simple_rnn_10 (SimpleRNN)   (None, 10)                120       \n",
      "                                                                 \n",
      " dense_9 (Dense)             (None, 1)                 11        \n",
      "                                                                 \n",
      "=================================================================\n",
      "Total params: 131 (524.00 Byte)\n",
      "Trainable params: 131 (524.00 Byte)\n",
      "Non-trainable params: 0 (0.00 Byte)\n",
      "_________________________________________________________________\n"
     ]
    }
   ],
   "source": [
    "modelo_rnn_2022 = Sequential()\n",
    "modelo_rnn_2022.add(SimpleRNN(10,input_shape=(12,1)))\n",
    "modelo_rnn_2022.add(Dense(1))\n",
    "modelo_rnn_2022.compile(loss='mse')\n",
    "modelo_rnn_2022.summary()"
   ]
  },
  {
   "cell_type": "code",
   "execution_count": 133,
   "id": "ef6d4a8b",
   "metadata": {},
   "outputs": [
    {
     "name": "stdout",
     "output_type": "stream",
     "text": [
      "Epoch 1/50\n"
     ]
    },
    {
     "name": "stdout",
     "output_type": "stream",
     "text": [
      "7/7 [==============================] - 1s 7ms/step - loss: 0.2524\n",
      "Epoch 2/50\n",
      "7/7 [==============================] - 0s 7ms/step - loss: 0.0531\n",
      "Epoch 3/50\n",
      "7/7 [==============================] - 0s 6ms/step - loss: 0.0331\n",
      "Epoch 4/50\n",
      "7/7 [==============================] - 0s 7ms/step - loss: 0.0291\n",
      "Epoch 5/50\n",
      "7/7 [==============================] - 0s 7ms/step - loss: 0.0256\n",
      "Epoch 6/50\n",
      "7/7 [==============================] - 0s 7ms/step - loss: 0.0230\n",
      "Epoch 7/50\n",
      "7/7 [==============================] - 0s 8ms/step - loss: 0.0199\n",
      "Epoch 8/50\n",
      "7/7 [==============================] - 0s 7ms/step - loss: 0.0174\n",
      "Epoch 9/50\n",
      "7/7 [==============================] - 0s 7ms/step - loss: 0.0154\n",
      "Epoch 10/50\n",
      "7/7 [==============================] - 0s 7ms/step - loss: 0.0137\n",
      "Epoch 11/50\n",
      "7/7 [==============================] - 0s 6ms/step - loss: 0.0120\n",
      "Epoch 12/50\n",
      "7/7 [==============================] - 0s 6ms/step - loss: 0.0110\n",
      "Epoch 13/50\n",
      "7/7 [==============================] - 0s 7ms/step - loss: 0.0106\n",
      "Epoch 14/50\n",
      "7/7 [==============================] - 0s 8ms/step - loss: 0.0104\n",
      "Epoch 15/50\n",
      "7/7 [==============================] - 0s 6ms/step - loss: 0.0099\n",
      "Epoch 16/50\n",
      "7/7 [==============================] - 0s 6ms/step - loss: 0.0102\n",
      "Epoch 17/50\n",
      "7/7 [==============================] - 0s 7ms/step - loss: 0.0095\n",
      "Epoch 18/50\n",
      "7/7 [==============================] - 0s 6ms/step - loss: 0.0096\n",
      "Epoch 19/50\n",
      "7/7 [==============================] - 0s 6ms/step - loss: 0.0092\n",
      "Epoch 20/50\n",
      "7/7 [==============================] - 0s 6ms/step - loss: 0.0093\n",
      "Epoch 21/50\n",
      "7/7 [==============================] - 0s 6ms/step - loss: 0.0103\n",
      "Epoch 22/50\n",
      "7/7 [==============================] - 0s 6ms/step - loss: 0.0093\n",
      "Epoch 23/50\n",
      "7/7 [==============================] - 0s 6ms/step - loss: 0.0095\n",
      "Epoch 24/50\n",
      "7/7 [==============================] - 0s 10ms/step - loss: 0.0092\n",
      "Epoch 25/50\n",
      "7/7 [==============================] - 0s 15ms/step - loss: 0.0092\n",
      "Epoch 26/50\n",
      "7/7 [==============================] - 0s 6ms/step - loss: 0.0092\n",
      "Epoch 27/50\n",
      "7/7 [==============================] - 0s 13ms/step - loss: 0.0095\n",
      "Epoch 28/50\n",
      "7/7 [==============================] - 0s 7ms/step - loss: 0.0090\n",
      "Epoch 29/50\n",
      "7/7 [==============================] - 0s 6ms/step - loss: 0.0088\n",
      "Epoch 30/50\n",
      "7/7 [==============================] - 0s 6ms/step - loss: 0.0092\n",
      "Epoch 31/50\n",
      "7/7 [==============================] - 0s 8ms/step - loss: 0.0090\n",
      "Epoch 32/50\n",
      "7/7 [==============================] - 0s 8ms/step - loss: 0.0089\n",
      "Epoch 33/50\n",
      "7/7 [==============================] - 0s 9ms/step - loss: 0.0084\n",
      "Epoch 34/50\n",
      "7/7 [==============================] - 0s 7ms/step - loss: 0.0095\n",
      "Epoch 35/50\n",
      "7/7 [==============================] - 0s 7ms/step - loss: 0.0089\n",
      "Epoch 36/50\n",
      "7/7 [==============================] - 0s 8ms/step - loss: 0.0089\n",
      "Epoch 37/50\n",
      "7/7 [==============================] - 0s 6ms/step - loss: 0.0085\n",
      "Epoch 38/50\n",
      "7/7 [==============================] - 0s 6ms/step - loss: 0.0099\n",
      "Epoch 39/50\n",
      "7/7 [==============================] - 0s 7ms/step - loss: 0.0089\n",
      "Epoch 40/50\n",
      "7/7 [==============================] - 0s 6ms/step - loss: 0.0093\n",
      "Epoch 41/50\n",
      "7/7 [==============================] - 0s 6ms/step - loss: 0.0091\n",
      "Epoch 42/50\n",
      "7/7 [==============================] - 0s 6ms/step - loss: 0.0086\n",
      "Epoch 43/50\n",
      "7/7 [==============================] - 0s 6ms/step - loss: 0.0087\n",
      "Epoch 44/50\n",
      "7/7 [==============================] - 0s 7ms/step - loss: 0.0091\n",
      "Epoch 45/50\n",
      "7/7 [==============================] - 0s 7ms/step - loss: 0.0093\n",
      "Epoch 46/50\n",
      "7/7 [==============================] - 0s 6ms/step - loss: 0.0091\n",
      "Epoch 47/50\n",
      "7/7 [==============================] - 0s 6ms/step - loss: 0.0085\n",
      "Epoch 48/50\n",
      "7/7 [==============================] - 0s 6ms/step - loss: 0.0086\n",
      "Epoch 49/50\n",
      "7/7 [==============================] - 0s 6ms/step - loss: 0.0099\n",
      "Epoch 50/50\n",
      "7/7 [==============================] - 0s 5ms/step - loss: 0.0084\n"
     ]
    }
   ],
   "source": [
    "modelo_ajustado = modelo_rnn_2022.fit(X_treino_rnn_2022, y_treino_rnn_2022, epochs=50)"
   ]
  },
  {
   "cell_type": "code",
   "execution_count": 134,
   "id": "f3392aa8",
   "metadata": {},
   "outputs": [
    {
     "name": "stdout",
     "output_type": "stream",
     "text": [
      "1/1 [==============================] - 0s 238ms/step\n"
     ]
    },
    {
     "data": {
      "text/plain": [
       "array([4018.483 , 3813.341 , 3935.1628, 3931.352 , 4056.3318, 3949.1523,\n",
       "       4057.9932, 4176.229 , 4227.644 , 4311.335 , 4295.9683, 4218.576 ],\n",
       "      dtype=float32)"
      ]
     },
     "execution_count": 134,
     "metadata": {},
     "output_type": "execute_result"
    }
   ],
   "source": [
    "previsao_rnn_2022 = modelo_rnn_2022.predict(X_teste_2022)\n",
    "previsao_rnn_2022 = scaler.inverse_transform(previsao_rnn_2022)\n",
    "previsao_rnn_2022 = previsao_rnn_2022.reshape(12)\n",
    "previsao_rnn_2022"
   ]
  },
  {
   "cell_type": "code",
   "execution_count": 135,
   "id": "5a5d0b44",
   "metadata": {},
   "outputs": [
    {
     "data": {
      "text/plain": [
       "{'rmse': 269.76951, 'mape': 0.0573}"
      ]
     },
     "execution_count": 135,
     "metadata": {},
     "output_type": "execute_result"
    }
   ],
   "source": [
    "erros_rnn_2022 = erros(previsao_rnn_2022, teste_2022.values)\n",
    "erros_rnn_2022"
   ]
  },
  {
   "cell_type": "markdown",
   "id": "8cf7acab",
   "metadata": {},
   "source": [
    "## Teste 2021"
   ]
  },
  {
   "cell_type": "code",
   "execution_count": 136,
   "id": "f58fe628",
   "metadata": {},
   "outputs": [
    {
     "name": "stdout",
     "output_type": "stream",
     "text": [
      "Model: \"sequential_11\"\n",
      "_________________________________________________________________\n",
      " Layer (type)                Output Shape              Param #   \n",
      "=================================================================\n",
      " simple_rnn_11 (SimpleRNN)   (None, 10)                120       \n",
      "                                                                 \n",
      " dense_10 (Dense)            (None, 1)                 11        \n",
      "                                                                 \n",
      "=================================================================\n",
      "Total params: 131 (524.00 Byte)\n",
      "Trainable params: 131 (524.00 Byte)\n",
      "Non-trainable params: 0 (0.00 Byte)\n",
      "_________________________________________________________________\n"
     ]
    }
   ],
   "source": [
    "modelo_rnn_2021 = Sequential()\n",
    "modelo_rnn_2021.add(SimpleRNN(10,input_shape=(12,1)))\n",
    "modelo_rnn_2021.add(Dense(1))\n",
    "modelo_rnn_2021.compile(loss='mse')\n",
    "modelo_rnn_2021.summary()"
   ]
  },
  {
   "cell_type": "code",
   "execution_count": 137,
   "id": "34c4f721",
   "metadata": {},
   "outputs": [
    {
     "name": "stdout",
     "output_type": "stream",
     "text": [
      "Epoch 1/50\n"
     ]
    },
    {
     "name": "stdout",
     "output_type": "stream",
     "text": [
      "6/6 [==============================] - 1s 6ms/step - loss: 0.0249\n",
      "Epoch 2/50\n",
      "6/6 [==============================] - 0s 6ms/step - loss: 0.0173\n",
      "Epoch 3/50\n",
      "6/6 [==============================] - 0s 5ms/step - loss: 0.0168\n",
      "Epoch 4/50\n",
      "6/6 [==============================] - 0s 6ms/step - loss: 0.0162\n",
      "Epoch 5/50\n",
      "6/6 [==============================] - 0s 6ms/step - loss: 0.0153\n",
      "Epoch 6/50\n",
      "6/6 [==============================] - 0s 7ms/step - loss: 0.0155\n",
      "Epoch 7/50\n",
      "6/6 [==============================] - 0s 6ms/step - loss: 0.0148\n",
      "Epoch 8/50\n",
      "6/6 [==============================] - 0s 6ms/step - loss: 0.0161\n",
      "Epoch 9/50\n",
      "6/6 [==============================] - 0s 6ms/step - loss: 0.0143\n",
      "Epoch 10/50\n",
      "6/6 [==============================] - 0s 6ms/step - loss: 0.0142\n",
      "Epoch 11/50\n",
      "6/6 [==============================] - 0s 6ms/step - loss: 0.0142\n",
      "Epoch 12/50\n",
      "6/6 [==============================] - 0s 6ms/step - loss: 0.0140\n",
      "Epoch 13/50\n",
      "6/6 [==============================] - 0s 6ms/step - loss: 0.0135\n",
      "Epoch 14/50\n",
      "6/6 [==============================] - 0s 6ms/step - loss: 0.0132\n",
      "Epoch 15/50\n",
      "6/6 [==============================] - 0s 6ms/step - loss: 0.0145\n",
      "Epoch 16/50\n",
      "6/6 [==============================] - 0s 7ms/step - loss: 0.0132\n",
      "Epoch 17/50\n",
      "6/6 [==============================] - 0s 7ms/step - loss: 0.0126\n",
      "Epoch 18/50\n",
      "6/6 [==============================] - 0s 5ms/step - loss: 0.0128\n",
      "Epoch 19/50\n",
      "6/6 [==============================] - 0s 5ms/step - loss: 0.0127\n",
      "Epoch 20/50\n",
      "6/6 [==============================] - 0s 6ms/step - loss: 0.0139\n",
      "Epoch 21/50\n",
      "6/6 [==============================] - 0s 6ms/step - loss: 0.0121\n",
      "Epoch 22/50\n",
      "6/6 [==============================] - 0s 6ms/step - loss: 0.0134\n",
      "Epoch 23/50\n",
      "6/6 [==============================] - 0s 6ms/step - loss: 0.0119\n",
      "Epoch 24/50\n",
      "6/6 [==============================] - 0s 5ms/step - loss: 0.0120\n",
      "Epoch 25/50\n",
      "6/6 [==============================] - 0s 5ms/step - loss: 0.0132\n",
      "Epoch 26/50\n",
      "6/6 [==============================] - 0s 5ms/step - loss: 0.0116\n",
      "Epoch 27/50\n",
      "6/6 [==============================] - 0s 5ms/step - loss: 0.0115\n",
      "Epoch 28/50\n",
      "6/6 [==============================] - 0s 6ms/step - loss: 0.0120\n",
      "Epoch 29/50\n",
      "6/6 [==============================] - 0s 8ms/step - loss: 0.0115\n",
      "Epoch 30/50\n",
      "6/6 [==============================] - 0s 6ms/step - loss: 0.0110\n",
      "Epoch 31/50\n",
      "6/6 [==============================] - 0s 9ms/step - loss: 0.0116\n",
      "Epoch 32/50\n",
      "6/6 [==============================] - 0s 5ms/step - loss: 0.0122\n",
      "Epoch 33/50\n",
      "6/6 [==============================] - 0s 7ms/step - loss: 0.0122\n",
      "Epoch 34/50\n",
      "6/6 [==============================] - 0s 6ms/step - loss: 0.0111\n",
      "Epoch 35/50\n",
      "6/6 [==============================] - 0s 5ms/step - loss: 0.0119\n",
      "Epoch 36/50\n",
      "6/6 [==============================] - 0s 6ms/step - loss: 0.0112\n",
      "Epoch 37/50\n",
      "6/6 [==============================] - 0s 6ms/step - loss: 0.0108\n",
      "Epoch 38/50\n",
      "6/6 [==============================] - 0s 5ms/step - loss: 0.0112\n",
      "Epoch 39/50\n",
      "6/6 [==============================] - 0s 6ms/step - loss: 0.0118\n",
      "Epoch 40/50\n",
      "6/6 [==============================] - 0s 5ms/step - loss: 0.0105\n",
      "Epoch 41/50\n",
      "6/6 [==============================] - 0s 5ms/step - loss: 0.0106\n",
      "Epoch 42/50\n",
      "6/6 [==============================] - 0s 6ms/step - loss: 0.0109\n",
      "Epoch 43/50\n",
      "6/6 [==============================] - 0s 6ms/step - loss: 0.0104\n",
      "Epoch 44/50\n",
      "6/6 [==============================] - 0s 6ms/step - loss: 0.0105\n",
      "Epoch 45/50\n",
      "6/6 [==============================] - 0s 5ms/step - loss: 0.0104\n",
      "Epoch 46/50\n",
      "6/6 [==============================] - 0s 5ms/step - loss: 0.0109\n",
      "Epoch 47/50\n",
      "6/6 [==============================] - 0s 5ms/step - loss: 0.0108\n",
      "Epoch 48/50\n",
      "6/6 [==============================] - 0s 6ms/step - loss: 0.0105\n",
      "Epoch 49/50\n",
      "6/6 [==============================] - 0s 6ms/step - loss: 0.0107\n",
      "Epoch 50/50\n",
      "6/6 [==============================] - 0s 5ms/step - loss: 0.0104\n"
     ]
    }
   ],
   "source": [
    "modelo_ajustado_2021 = modelo_rnn_2021.fit(X_treino_rnn_2021, y_treino_rnn_2021, epochs=50)"
   ]
  },
  {
   "cell_type": "code",
   "execution_count": 138,
   "id": "5e18d212",
   "metadata": {},
   "outputs": [
    {
     "name": "stdout",
     "output_type": "stream",
     "text": [
      "1/1 [==============================] - 0s 218ms/step\n"
     ]
    },
    {
     "data": {
      "text/plain": [
       "array([4036.984 , 3844.105 , 3837.5671, 3906.2495, 3928.5967, 3914.0923,\n",
       "       3932.8438, 4034.2275, 4135.535 , 4227.462 , 4175.638 , 4097.5547],\n",
       "      dtype=float32)"
      ]
     },
     "execution_count": 138,
     "metadata": {},
     "output_type": "execute_result"
    }
   ],
   "source": [
    "previsao_rnn_2021 = modelo_rnn_2021.predict(X_teste_2021)\n",
    "previsao_rnn_2021 = scaler.inverse_transform(previsao_rnn_2021)\n",
    "previsao_rnn_2021 = previsao_rnn_2021.reshape(12)\n",
    "previsao_rnn_2021"
   ]
  },
  {
   "cell_type": "code",
   "execution_count": 139,
   "id": "c2d401d6",
   "metadata": {},
   "outputs": [
    {
     "data": {
      "text/plain": [
       "{'rmse': 307.15855, 'mape': 0.06786}"
      ]
     },
     "execution_count": 139,
     "metadata": {},
     "output_type": "execute_result"
    }
   ],
   "source": [
    "erros_rnn_2021 = erros(previsao_rnn_2021,teste_2021.values)\n",
    "erros_rnn_2021"
   ]
  },
  {
   "cell_type": "code",
   "execution_count": null,
   "id": "30f8a7f9",
   "metadata": {},
   "outputs": [],
   "source": []
  },
  {
   "cell_type": "markdown",
   "id": "5657bcfd",
   "metadata": {},
   "source": [
    "## Teste 2020"
   ]
  },
  {
   "cell_type": "code",
   "execution_count": 140,
   "id": "a92659fa",
   "metadata": {},
   "outputs": [
    {
     "name": "stdout",
     "output_type": "stream",
     "text": [
      "Model: \"sequential_12\"\n",
      "_________________________________________________________________\n",
      " Layer (type)                Output Shape              Param #   \n",
      "=================================================================\n",
      " simple_rnn_12 (SimpleRNN)   (None, 10)                120       \n",
      "                                                                 \n",
      " dense_11 (Dense)            (None, 1)                 11        \n",
      "                                                                 \n",
      "=================================================================\n",
      "Total params: 131 (524.00 Byte)\n",
      "Trainable params: 131 (524.00 Byte)\n",
      "Non-trainable params: 0 (0.00 Byte)\n",
      "_________________________________________________________________\n"
     ]
    }
   ],
   "source": [
    "modelo_rnn_2020 = Sequential()\n",
    "modelo_rnn_2020.add(SimpleRNN(10,input_shape=(12,1)))\n",
    "modelo_rnn_2020.add(Dense(1))\n",
    "modelo_rnn_2020.compile(loss='mse')\n",
    "modelo_rnn_2020.summary()"
   ]
  },
  {
   "cell_type": "code",
   "execution_count": 141,
   "id": "17aa5963",
   "metadata": {},
   "outputs": [
    {
     "name": "stdout",
     "output_type": "stream",
     "text": [
      "Epoch 1/50\n",
      "6/6 [==============================] - 1s 6ms/step - loss: 0.0298\n",
      "Epoch 2/50\n",
      "6/6 [==============================] - 0s 6ms/step - loss: 0.0187\n",
      "Epoch 3/50\n",
      "6/6 [==============================] - 0s 6ms/step - loss: 0.0170\n",
      "Epoch 4/50\n",
      "6/6 [==============================] - 0s 6ms/step - loss: 0.0156\n",
      "Epoch 5/50\n",
      "6/6 [==============================] - 0s 8ms/step - loss: 0.0144\n",
      "Epoch 6/50\n",
      "6/6 [==============================] - 0s 6ms/step - loss: 0.0142\n",
      "Epoch 7/50\n",
      "6/6 [==============================] - 0s 5ms/step - loss: 0.0141\n",
      "Epoch 8/50\n",
      "6/6 [==============================] - 0s 5ms/step - loss: 0.0141\n",
      "Epoch 9/50\n",
      "6/6 [==============================] - 0s 6ms/step - loss: 0.0130\n",
      "Epoch 10/50\n",
      "6/6 [==============================] - 0s 6ms/step - loss: 0.0127\n",
      "Epoch 11/50\n",
      "6/6 [==============================] - 0s 6ms/step - loss: 0.0126\n",
      "Epoch 12/50\n",
      "6/6 [==============================] - 0s 7ms/step - loss: 0.0120\n",
      "Epoch 13/50\n",
      "6/6 [==============================] - 0s 8ms/step - loss: 0.0121\n",
      "Epoch 14/50\n",
      "6/6 [==============================] - 0s 6ms/step - loss: 0.0120\n",
      "Epoch 15/50\n",
      "6/6 [==============================] - 0s 5ms/step - loss: 0.0114\n",
      "Epoch 16/50\n",
      "6/6 [==============================] - 0s 6ms/step - loss: 0.0111\n",
      "Epoch 17/50\n",
      "6/6 [==============================] - 0s 6ms/step - loss: 0.0115\n",
      "Epoch 18/50\n",
      "6/6 [==============================] - 0s 7ms/step - loss: 0.0115\n",
      "Epoch 19/50\n",
      "6/6 [==============================] - 0s 6ms/step - loss: 0.0108\n",
      "Epoch 20/50\n",
      "6/6 [==============================] - 0s 6ms/step - loss: 0.0109\n",
      "Epoch 21/50\n",
      "6/6 [==============================] - 0s 5ms/step - loss: 0.0108\n",
      "Epoch 22/50\n",
      "6/6 [==============================] - 0s 5ms/step - loss: 0.0102\n",
      "Epoch 23/50\n",
      "6/6 [==============================] - 0s 5ms/step - loss: 0.0103\n",
      "Epoch 24/50\n",
      "6/6 [==============================] - 0s 5ms/step - loss: 0.0108\n",
      "Epoch 25/50\n",
      "6/6 [==============================] - 0s 6ms/step - loss: 0.0101\n",
      "Epoch 26/50\n",
      "6/6 [==============================] - 0s 5ms/step - loss: 0.0103\n",
      "Epoch 27/50\n",
      "6/6 [==============================] - 0s 5ms/step - loss: 0.0096\n",
      "Epoch 28/50\n",
      "6/6 [==============================] - 0s 5ms/step - loss: 0.0098\n",
      "Epoch 29/50\n",
      "6/6 [==============================] - 0s 5ms/step - loss: 0.0106\n",
      "Epoch 30/50\n",
      "6/6 [==============================] - 0s 6ms/step - loss: 0.0093\n",
      "Epoch 31/50\n",
      "6/6 [==============================] - 0s 6ms/step - loss: 0.0097\n",
      "Epoch 32/50\n",
      "6/6 [==============================] - 0s 6ms/step - loss: 0.0090\n",
      "Epoch 33/50\n",
      "6/6 [==============================] - 0s 6ms/step - loss: 0.0097\n",
      "Epoch 34/50\n",
      "6/6 [==============================] - 0s 5ms/step - loss: 0.0093\n",
      "Epoch 35/50\n",
      "6/6 [==============================] - 0s 6ms/step - loss: 0.0093\n",
      "Epoch 36/50\n",
      "6/6 [==============================] - 0s 6ms/step - loss: 0.0090\n",
      "Epoch 37/50\n",
      "6/6 [==============================] - 0s 7ms/step - loss: 0.0089\n",
      "Epoch 38/50\n",
      "6/6 [==============================] - 0s 6ms/step - loss: 0.0092\n",
      "Epoch 39/50\n",
      "6/6 [==============================] - 0s 7ms/step - loss: 0.0094\n",
      "Epoch 40/50\n",
      "6/6 [==============================] - 0s 8ms/step - loss: 0.0092\n",
      "Epoch 41/50\n",
      "6/6 [==============================] - 0s 7ms/step - loss: 0.0086\n",
      "Epoch 42/50\n",
      "6/6 [==============================] - 0s 7ms/step - loss: 0.0089\n",
      "Epoch 43/50\n",
      "6/6 [==============================] - 0s 6ms/step - loss: 0.0085\n",
      "Epoch 44/50\n",
      "6/6 [==============================] - 0s 7ms/step - loss: 0.0086\n",
      "Epoch 45/50\n",
      "6/6 [==============================] - 0s 6ms/step - loss: 0.0091\n",
      "Epoch 46/50\n",
      "6/6 [==============================] - 0s 6ms/step - loss: 0.0082\n",
      "Epoch 47/50\n",
      "6/6 [==============================] - 0s 5ms/step - loss: 0.0084\n",
      "Epoch 48/50\n",
      "6/6 [==============================] - 0s 6ms/step - loss: 0.0085\n",
      "Epoch 49/50\n",
      "6/6 [==============================] - 0s 6ms/step - loss: 0.0083\n",
      "Epoch 50/50\n",
      "6/6 [==============================] - 0s 5ms/step - loss: 0.0083\n"
     ]
    }
   ],
   "source": [
    "modelo_ajustado_2020 = modelo_rnn_2020.fit(X_treino_rnn_2020, y_treino_rnn_2020, epochs=50)"
   ]
  },
  {
   "cell_type": "code",
   "execution_count": 142,
   "id": "2ee363a5",
   "metadata": {},
   "outputs": [
    {
     "name": "stdout",
     "output_type": "stream",
     "text": [
      "1/1 [==============================] - 0s 254ms/step\n"
     ]
    },
    {
     "data": {
      "text/plain": [
       "array([4046.0342, 3934.0261, 3941.012 , 3970.5498, 3861.9995, 3858.6443,\n",
       "       3918.986 , 4098.422 , 4217.9033, 4306.6084, 4383.217 , 4306.0146],\n",
       "      dtype=float32)"
      ]
     },
     "execution_count": 142,
     "metadata": {},
     "output_type": "execute_result"
    }
   ],
   "source": [
    "previsao_rnn_2020 = modelo_rnn_2020.predict(X_teste_2020)\n",
    "previsao_rnn_2020 = scaler.inverse_transform(previsao_rnn_2020)\n",
    "previsao_rnn_2020 = previsao_rnn_2020.reshape(12)\n",
    "previsao_rnn_2020"
   ]
  },
  {
   "cell_type": "code",
   "execution_count": 143,
   "id": "25239b0a",
   "metadata": {},
   "outputs": [
    {
     "data": {
      "text/plain": [
       "{'rmse': 346.68432, 'mape': 0.06276}"
      ]
     },
     "execution_count": 143,
     "metadata": {},
     "output_type": "execute_result"
    }
   ],
   "source": [
    "erros_rnn_2020 = erros(previsao_rnn_2020,teste_2020.values)\n",
    "erros_rnn_2020"
   ]
  },
  {
   "cell_type": "markdown",
   "id": "edb71837",
   "metadata": {},
   "source": [
    "## Teste 2019"
   ]
  },
  {
   "cell_type": "code",
   "execution_count": 144,
   "id": "b70fb3f7",
   "metadata": {},
   "outputs": [
    {
     "name": "stdout",
     "output_type": "stream",
     "text": [
      "Model: \"sequential_13\"\n",
      "_________________________________________________________________\n",
      " Layer (type)                Output Shape              Param #   \n",
      "=================================================================\n",
      " simple_rnn_13 (SimpleRNN)   (None, 10)                120       \n",
      "                                                                 \n",
      " dense_12 (Dense)            (None, 1)                 11        \n",
      "                                                                 \n",
      "=================================================================\n",
      "Total params: 131 (524.00 Byte)\n",
      "Trainable params: 131 (524.00 Byte)\n",
      "Non-trainable params: 0 (0.00 Byte)\n",
      "_________________________________________________________________\n"
     ]
    }
   ],
   "source": [
    "modelo_rnn_2019 = Sequential()\n",
    "modelo_rnn_2019.add(SimpleRNN(10,input_shape=(12,1)))\n",
    "modelo_rnn_2019.add(Dense(1))\n",
    "modelo_rnn_2019.compile(loss='mse')\n",
    "modelo_rnn_2019.summary()"
   ]
  },
  {
   "cell_type": "code",
   "execution_count": 145,
   "id": "97610524",
   "metadata": {},
   "outputs": [
    {
     "name": "stdout",
     "output_type": "stream",
     "text": [
      "Epoch 1/50\n",
      "6/6 [==============================] - 1s 7ms/step - loss: 0.2888\n",
      "Epoch 2/50\n",
      "6/6 [==============================] - 0s 6ms/step - loss: 0.1249\n",
      "Epoch 3/50\n",
      "6/6 [==============================] - 0s 9ms/step - loss: 0.0609\n",
      "Epoch 4/50\n",
      "6/6 [==============================] - 0s 8ms/step - loss: 0.0366\n",
      "Epoch 5/50\n",
      "6/6 [==============================] - 0s 6ms/step - loss: 0.0310\n",
      "Epoch 6/50\n",
      "6/6 [==============================] - 0s 7ms/step - loss: 0.0288\n",
      "Epoch 7/50\n",
      "6/6 [==============================] - 0s 8ms/step - loss: 0.0274\n",
      "Epoch 8/50\n",
      "6/6 [==============================] - 0s 10ms/step - loss: 0.0256\n",
      "Epoch 9/50\n",
      "6/6 [==============================] - 0s 7ms/step - loss: 0.0241\n",
      "Epoch 10/50\n",
      "6/6 [==============================] - 0s 11ms/step - loss: 0.0223\n",
      "Epoch 11/50\n",
      "6/6 [==============================] - 0s 9ms/step - loss: 0.0214\n",
      "Epoch 12/50\n",
      "6/6 [==============================] - 0s 7ms/step - loss: 0.0199\n",
      "Epoch 13/50\n",
      "6/6 [==============================] - 0s 7ms/step - loss: 0.0187\n",
      "Epoch 14/50\n",
      "6/6 [==============================] - 0s 7ms/step - loss: 0.0173\n",
      "Epoch 15/50\n",
      "6/6 [==============================] - 0s 7ms/step - loss: 0.0167\n",
      "Epoch 16/50\n",
      "6/6 [==============================] - 0s 7ms/step - loss: 0.0158\n",
      "Epoch 17/50\n",
      "6/6 [==============================] - 0s 6ms/step - loss: 0.0147\n",
      "Epoch 18/50\n",
      "6/6 [==============================] - 0s 8ms/step - loss: 0.0137\n",
      "Epoch 19/50\n",
      "6/6 [==============================] - 0s 6ms/step - loss: 0.0133\n",
      "Epoch 20/50\n",
      "6/6 [==============================] - 0s 5ms/step - loss: 0.0123\n",
      "Epoch 21/50\n",
      "6/6 [==============================] - 0s 5ms/step - loss: 0.0124\n",
      "Epoch 22/50\n",
      "6/6 [==============================] - 0s 6ms/step - loss: 0.0117\n",
      "Epoch 23/50\n",
      "6/6 [==============================] - 0s 5ms/step - loss: 0.0110\n",
      "Epoch 24/50\n",
      "6/6 [==============================] - 0s 7ms/step - loss: 0.0117\n",
      "Epoch 25/50\n",
      "6/6 [==============================] - 0s 8ms/step - loss: 0.0105\n",
      "Epoch 26/50\n",
      "6/6 [==============================] - 0s 9ms/step - loss: 0.0104\n",
      "Epoch 27/50\n",
      "6/6 [==============================] - 0s 11ms/step - loss: 0.0099\n",
      "Epoch 28/50\n",
      "6/6 [==============================] - 0s 8ms/step - loss: 0.0099\n",
      "Epoch 29/50\n",
      "6/6 [==============================] - 0s 5ms/step - loss: 0.0099\n",
      "Epoch 30/50\n",
      "6/6 [==============================] - 0s 7ms/step - loss: 0.0101\n",
      "Epoch 31/50\n",
      "6/6 [==============================] - 0s 8ms/step - loss: 0.0090\n",
      "Epoch 32/50\n",
      "6/6 [==============================] - 0s 8ms/step - loss: 0.0094\n",
      "Epoch 33/50\n",
      "6/6 [==============================] - 0s 7ms/step - loss: 0.0091\n",
      "Epoch 34/50\n",
      "6/6 [==============================] - 0s 7ms/step - loss: 0.0087\n",
      "Epoch 35/50\n",
      "6/6 [==============================] - 0s 6ms/step - loss: 0.0093\n",
      "Epoch 36/50\n",
      "6/6 [==============================] - 0s 6ms/step - loss: 0.0097\n",
      "Epoch 37/50\n",
      "6/6 [==============================] - 0s 7ms/step - loss: 0.0084\n",
      "Epoch 38/50\n",
      "6/6 [==============================] - 0s 6ms/step - loss: 0.0093\n",
      "Epoch 39/50\n",
      "6/6 [==============================] - 0s 5ms/step - loss: 0.0090\n",
      "Epoch 40/50\n",
      "6/6 [==============================] - 0s 5ms/step - loss: 0.0087\n",
      "Epoch 41/50\n",
      "6/6 [==============================] - 0s 6ms/step - loss: 0.0082\n",
      "Epoch 42/50\n",
      "6/6 [==============================] - 0s 6ms/step - loss: 0.0100\n",
      "Epoch 43/50\n",
      "6/6 [==============================] - 0s 5ms/step - loss: 0.0090\n",
      "Epoch 44/50\n",
      "6/6 [==============================] - 0s 5ms/step - loss: 0.0085\n",
      "Epoch 45/50\n",
      "6/6 [==============================] - 0s 6ms/step - loss: 0.0087\n",
      "Epoch 46/50\n",
      "6/6 [==============================] - 0s 6ms/step - loss: 0.0084\n",
      "Epoch 47/50\n",
      "6/6 [==============================] - 0s 14ms/step - loss: 0.0083\n",
      "Epoch 48/50\n",
      "6/6 [==============================] - 0s 10ms/step - loss: 0.0080\n",
      "Epoch 49/50\n",
      "6/6 [==============================] - 0s 7ms/step - loss: 0.0095\n",
      "Epoch 50/50\n",
      "6/6 [==============================] - 0s 6ms/step - loss: 0.0082\n"
     ]
    }
   ],
   "source": [
    "modelo_ajustado_2019 = modelo_rnn_2019.fit(X_treino_rnn_2019, y_treino_rnn_2019, epochs=50)"
   ]
  },
  {
   "cell_type": "code",
   "execution_count": 146,
   "id": "ee8c45d2",
   "metadata": {},
   "outputs": [
    {
     "name": "stdout",
     "output_type": "stream",
     "text": [
      "1/1 [==============================] - 0s 247ms/step\n"
     ]
    },
    {
     "data": {
      "text/plain": [
       "array([3847.3972, 3676.571 , 3839.8633, 3863.7148, 3848.087 , 3888.7583,\n",
       "       3976.4705, 4147.0703, 4086.432 , 4134.3022, 4094.0383, 4095.7764],\n",
       "      dtype=float32)"
      ]
     },
     "execution_count": 146,
     "metadata": {},
     "output_type": "execute_result"
    }
   ],
   "source": [
    "previsao_rnn_2019 = modelo_rnn_2019.predict(X_teste_2019)\n",
    "previsao_rnn_2019 = scaler.inverse_transform(previsao_rnn_2019)\n",
    "previsao_rnn_2019 = previsao_rnn_2019.reshape(12)\n",
    "previsao_rnn_2019"
   ]
  },
  {
   "cell_type": "code",
   "execution_count": 147,
   "id": "64e569c5",
   "metadata": {},
   "outputs": [
    {
     "data": {
      "text/plain": [
       "{'rmse': 155.60795, 'mape': 0.03149}"
      ]
     },
     "execution_count": 147,
     "metadata": {},
     "output_type": "execute_result"
    }
   ],
   "source": [
    "erros_rnn_2019 = erros(previsao_rnn_2019,teste_2019.values)\n",
    "erros_rnn_2019"
   ]
  },
  {
   "cell_type": "code",
   "execution_count": null,
   "id": "2cfc7149",
   "metadata": {},
   "outputs": [],
   "source": []
  }
 ],
 "metadata": {
  "kernelspec": {
   "display_name": "ts_env",
   "language": "python",
   "name": "python3"
  },
  "language_info": {
   "codemirror_mode": {
    "name": "ipython",
    "version": 3
   },
   "file_extension": ".py",
   "mimetype": "text/x-python",
   "name": "python",
   "nbconvert_exporter": "python",
   "pygments_lexer": "ipython3",
   "version": "3.11.7"
  }
 },
 "nbformat": 4,
 "nbformat_minor": 5
}
